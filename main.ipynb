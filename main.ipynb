{
 "cells": [
  {
   "cell_type": "markdown",
   "metadata": {},
   "source": [
    "# Movie Recommender System"
   ]
  },
  {
   "cell_type": "code",
   "execution_count": 37,
   "metadata": {},
   "outputs": [],
   "source": [
    "import pandas as pd\n",
    "import numpy as np\n",
    "import matplotlib.pyplot as plt\n",
    "%matplotlib inline\n",
    "import seaborn as sns\n",
    "from sklearn.feature_extraction.text import TfidfVectorizer, CountVectorizer\n",
    "from sklearn.metrics.pairwise import linear_kernel, cosine_similarity\n",
    "from ast import literal_eval"
   ]
  },
  {
   "cell_type": "code",
   "execution_count": 38,
   "metadata": {},
   "outputs": [
    {
     "name": "stdout",
     "output_type": "stream",
     "text": [
      "<class 'pandas.core.frame.DataFrame'>\n",
      "RangeIndex: 4803 entries, 0 to 4802\n",
      "Data columns (total 20 columns):\n",
      " #   Column                Non-Null Count  Dtype  \n",
      "---  ------                --------------  -----  \n",
      " 0   budget                4803 non-null   int64  \n",
      " 1   genres                4803 non-null   object \n",
      " 2   homepage              1712 non-null   object \n",
      " 3   id                    4803 non-null   int64  \n",
      " 4   keywords              4803 non-null   object \n",
      " 5   original_language     4803 non-null   object \n",
      " 6   original_title        4803 non-null   object \n",
      " 7   overview              4800 non-null   object \n",
      " 8   popularity            4803 non-null   float64\n",
      " 9   production_companies  4803 non-null   object \n",
      " 10  production_countries  4803 non-null   object \n",
      " 11  release_date          4802 non-null   object \n",
      " 12  revenue               4803 non-null   int64  \n",
      " 13  runtime               4801 non-null   float64\n",
      " 14  spoken_languages      4803 non-null   object \n",
      " 15  status                4803 non-null   object \n",
      " 16  tagline               3959 non-null   object \n",
      " 17  title                 4803 non-null   object \n",
      " 18  vote_average          4803 non-null   float64\n",
      " 19  vote_count            4803 non-null   int64  \n",
      "dtypes: float64(3), int64(4), object(13)\n",
      "memory usage: 750.6+ KB\n"
     ]
    }
   ],
   "source": [
    "mov = pd.read_csv('tmdb_5000_movies.csv')\n",
    "mov.info()"
   ]
  },
  {
   "cell_type": "code",
   "execution_count": 39,
   "metadata": {},
   "outputs": [],
   "source": [
    "mov['overview'] = mov['overview'].fillna('')"
   ]
  },
  {
   "cell_type": "code",
   "execution_count": 40,
   "metadata": {},
   "outputs": [
    {
     "name": "stdout",
     "output_type": "stream",
     "text": [
      "<class 'pandas.core.frame.DataFrame'>\n",
      "RangeIndex: 4803 entries, 0 to 4802\n",
      "Data columns (total 3 columns):\n",
      " #   Column    Non-Null Count  Dtype \n",
      "---  ------    --------------  ----- \n",
      " 0   movie_id  4803 non-null   int64 \n",
      " 1   cast      4803 non-null   object\n",
      " 2   crew      4803 non-null   object\n",
      "dtypes: int64(1), object(2)\n",
      "memory usage: 112.7+ KB\n"
     ]
    }
   ],
   "source": [
    "cre = pd.read_csv('tmdb_5000_credits.csv')\n",
    "cre = cre.drop(['title'], axis=1)\n",
    "cre.info()"
   ]
  },
  {
   "cell_type": "markdown",
   "metadata": {},
   "source": [
    "## Content-Based Filtering\n",
    "Here, the system will suggest movies based on a particular movie, using metadata (like genre, actor, director, etc.)\n",
    "\n",
    "Firstly let us look at CBF using movies title and overview. Then we will try with genre, keywords, cast, available languages, etc."
   ]
  },
  {
   "cell_type": "code",
   "execution_count": 41,
   "metadata": {},
   "outputs": [
    {
     "data": {
      "text/plain": [
       "(4803, 20978)"
      ]
     },
     "execution_count": 41,
     "metadata": {},
     "output_type": "execute_result"
    }
   ],
   "source": [
    "tfidf = TfidfVectorizer(analyzer='word', stop_words='english')\n",
    "\n",
    "tfidf_matrix = tfidf.fit_transform(mov['overview'])\n",
    "tfidf_matrix.shape"
   ]
  },
  {
   "cell_type": "markdown",
   "metadata": {},
   "source": [
    "As we have generated TF-IDF matrix, we use the dot product to get the cosine similarity as it is easy and fast to compute"
   ]
  },
  {
   "cell_type": "code",
   "execution_count": 42,
   "metadata": {},
   "outputs": [],
   "source": [
    "cos_sim = linear_kernel(tfidf_matrix, tfidf_matrix)"
   ]
  },
  {
   "cell_type": "code",
   "execution_count": 43,
   "metadata": {},
   "outputs": [],
   "source": [
    "titles = mov['title']\n",
    "indices = pd.Series(mov.index, index=mov['title']).drop_duplicates()"
   ]
  },
  {
   "cell_type": "code",
   "execution_count": 44,
   "metadata": {},
   "outputs": [],
   "source": [
    "def get_recommendations(title, cos_sim=cos_sim):\n",
    "\tindex = indices[title]\n",
    "\tsimilarity_scores = list(enumerate(cos_sim[index]))\n",
    "\t# sort movies index based on similarity scores\n",
    "\tsimilarity_scores = sorted(similarity_scores, key=lambda x:x[1], reverse=True)\n",
    "\t# get top 20 of sorted\n",
    "\tsimilarity_scores = similarity_scores[1:21]\n",
    "\t# store the indices of top 20 movies\n",
    "\tmovies_indices = [i[0] for i in similarity_scores]\n",
    "\treturn titles.iloc[movies_indices]\n"
   ]
  },
  {
   "cell_type": "code",
   "execution_count": 45,
   "metadata": {},
   "outputs": [
    {
     "data": {
      "text/plain": [
       "5                    Spider-Man 3\n",
       "38       The Amazing Spider-Man 2\n",
       "20         The Amazing Spider-Man\n",
       "30                   Spider-Man 2\n",
       "1534                Arachnophobia\n",
       "953     Gremlins 2: The New Batch\n",
       "1720                     Kick-Ass\n",
       "2740                  The New Guy\n",
       "3216                     Election\n",
       "1572    Forgetting Sarah Marshall\n",
       "2789           The Emperor's Club\n",
       "1383                        Radio\n",
       "4643                   Like Crazy\n",
       "572                          Hook\n",
       "3428                         Bats\n",
       "1119               21 Jump Street\n",
       "3163                    Detention\n",
       "3383                    Losin' It\n",
       "641                      Due Date\n",
       "1677               Goodbye Bafana\n",
       "Name: title, dtype: object"
      ]
     },
     "execution_count": 45,
     "metadata": {},
     "output_type": "execute_result"
    }
   ],
   "source": [
    "get_recommendations('Spider-Man')"
   ]
  },
  {
   "cell_type": "markdown",
   "metadata": {},
   "source": [
    "Recommendation using metadata"
   ]
  },
  {
   "cell_type": "code",
   "execution_count": 46,
   "metadata": {},
   "outputs": [
    {
     "name": "stdout",
     "output_type": "stream",
     "text": [
      "<class 'pandas.core.frame.DataFrame'>\n",
      "Int64Index: 4803 entries, 0 to 4802\n",
      "Data columns (total 22 columns):\n",
      " #   Column                Non-Null Count  Dtype  \n",
      "---  ------                --------------  -----  \n",
      " 0   budget                4803 non-null   int64  \n",
      " 1   genres                4803 non-null   object \n",
      " 2   homepage              1712 non-null   object \n",
      " 3   id                    4803 non-null   int64  \n",
      " 4   keywords              4803 non-null   object \n",
      " 5   original_language     4803 non-null   object \n",
      " 6   original_title        4803 non-null   object \n",
      " 7   overview              4803 non-null   object \n",
      " 8   popularity            4803 non-null   float64\n",
      " 9   production_companies  4803 non-null   object \n",
      " 10  production_countries  4803 non-null   object \n",
      " 11  release_date          4802 non-null   object \n",
      " 12  revenue               4803 non-null   int64  \n",
      " 13  runtime               4801 non-null   float64\n",
      " 14  spoken_languages      4803 non-null   object \n",
      " 15  status                4803 non-null   object \n",
      " 16  tagline               3959 non-null   object \n",
      " 17  title                 4803 non-null   object \n",
      " 18  vote_average          4803 non-null   float64\n",
      " 19  vote_count            4803 non-null   int64  \n",
      " 20  cast                  4803 non-null   object \n",
      " 21  crew                  4803 non-null   object \n",
      "dtypes: float64(3), int64(4), object(15)\n",
      "memory usage: 863.0+ KB\n"
     ]
    }
   ],
   "source": [
    "mov_modified = mov.merge(cre, left_on='id', right_on='movie_id')\n",
    "mov_modified = mov_modified.drop(['movie_id'], axis=1)\n",
    "mov_modified.info()"
   ]
  },
  {
   "cell_type": "code",
   "execution_count": 47,
   "metadata": {},
   "outputs": [],
   "source": [
    "cols = ['genres', 'keywords', 'cast', 'crew']\n",
    "\n",
    "for col in cols:\n",
    "\tmov_modified[col] = mov_modified[col].apply(literal_eval)\n",
    "\n",
    "\n",
    "# to get director from job\n",
    "def get_director(x):\n",
    "    for i in x:\n",
    "        if i['job'] == 'Director':\n",
    "            return i['name']\n",
    "    return np.nan\n",
    "\n",
    "\n",
    "# get top 3 elements of list\n",
    "def get_list(x):\n",
    "    if isinstance(x, list):\n",
    "        names = [ i['name'] for i in x]\n",
    "        \n",
    "        if len(names)  > 3:\n",
    "            names = names[:3]\n",
    "        return names\n",
    "    return []\n",
    "\n",
    "\n",
    "#apply all functions\n",
    "mov_modified['director'] = mov_modified['crew'].apply(get_director)\n",
    "\n",
    "cols2 = ['genres', 'keywords', 'cast']\n",
    "for col in cols2:\n",
    "\tmov_modified[col] = mov_modified[col].apply(get_list)"
   ]
  },
  {
   "cell_type": "markdown",
   "metadata": {},
   "source": [
    "For using the metadata as our base for recommendations, we need to preprocess the dataset so that we can use the tfidf vectorizer and cosine similarity."
   ]
  },
  {
   "cell_type": "code",
   "execution_count": 48,
   "metadata": {},
   "outputs": [],
   "source": [
    "#striping\n",
    "def clean_data(x):\n",
    "    if isinstance(x, list):\n",
    "        return [str.lower(i.replace(' ', '')) for i in x]\n",
    "    else:\n",
    "        if isinstance(x, str):\n",
    "            return str.lower(x.replace(' ', ''))\n",
    "        else:\n",
    "            return ''\n",
    "\n",
    "\n",
    "cols3 = ['cast', 'keywords', 'director', 'genres']\n",
    "for col in cols3:\n",
    "    mov_modified[col] = mov_modified[col].apply(clean_data)\n",
    "\n",
    "#creating a SOUP\n",
    "def create_soup(x):\n",
    "    return ' '.join(x['keywords'])+' '+' '.join(x['cast'])+' '+x['director']+' '+' '.join(x['genres'])\n",
    "mov_modified['soup'] = mov_modified.apply(create_soup, axis=1)\n",
    "\n",
    "count = CountVectorizer(analyzer='word', ngram_range=(1, 2), min_df=0, stop_words='english')\n",
    "count_matrix = count.fit_transform(mov_modified['soup'])\n",
    "\n",
    "#finding similarity\n",
    "cos_sim2 = cosine_similarity(count_matrix, count_matrix)"
   ]
  },
  {
   "cell_type": "code",
   "execution_count": 49,
   "metadata": {},
   "outputs": [
    {
     "data": {
      "text/plain": [
       "5                                            Spider-Man 3\n",
       "30                                           Spider-Man 2\n",
       "1266             Cirque du Freak: The Vampire's Assistant\n",
       "381                      The Nutcracker: The Untold Story\n",
       "131                                               G-Force\n",
       "215                Fantastic 4: Rise of the Silver Surfer\n",
       "1359                                               Batman\n",
       "1                Pirates of the Caribbean: At World's End\n",
       "10                                       Superman Returns\n",
       "12             Pirates of the Caribbean: Dead Man's Chest\n",
       "37                             Oz: The Great and Powerful\n",
       "50                    Prince of Persia: The Sands of Time\n",
       "61                                      Jupiter Ascending\n",
       "98                      The Hobbit: An Unexpected Journey\n",
       "115                                               Hancock\n",
       "121        Night at the Museum: Battle of the Smithsonian\n",
       "129                                                  Thor\n",
       "160                            How to Train Your Dragon 2\n",
       "198                                              R.I.P.D.\n",
       "199     Pirates of the Caribbean: The Curse of the Bla...\n",
       "Name: title, dtype: object"
      ]
     },
     "execution_count": 49,
     "metadata": {},
     "output_type": "execute_result"
    }
   ],
   "source": [
    "get_recommendations('Spider-Man', cos_sim2)"
   ]
  },
  {
   "cell_type": "code",
   "execution_count": 50,
   "metadata": {},
   "outputs": [
    {
     "data": {
      "text/plain": [
       "40                      Cars 2\n",
       "1876           Bride of Chucky\n",
       "2419            McFarland, USA\n",
       "1795                 Silverado\n",
       "801       The Devil's Advocate\n",
       "4492                     After\n",
       "4048               The Calling\n",
       "4557       Fight to the Finish\n",
       "3238      Little Miss Sunshine\n",
       "1678           United Passions\n",
       "1514    The Quick and the Dead\n",
       "559               The Majestic\n",
       "4297    The Trouble with Harry\n",
       "3187                  Hamlet 2\n",
       "1595                Glory Road\n",
       "2606          Raise Your Voice\n",
       "3108                 Severance\n",
       "2779                 The Claim\n",
       "4746              Tiger Orange\n",
       "3997           Blazing Saddles\n",
       "Name: title, dtype: object"
      ]
     },
     "execution_count": 50,
     "metadata": {},
     "output_type": "execute_result"
    }
   ],
   "source": [
    "get_recommendations('Cars')"
   ]
  },
  {
   "cell_type": "code",
   "execution_count": 51,
   "metadata": {},
   "outputs": [
    {
     "data": {
      "text/plain": [
       "40                                        Cars 2\n",
       "55                                         Brave\n",
       "202                                        Rio 2\n",
       "374                                          Rio\n",
       "569     The SpongeBob Movie: Sponge Out of Water\n",
       "1142               Why I Did (Not) Eat My Father\n",
       "343                                  Toy Story 2\n",
       "596                                        I Spy\n",
       "933                             Shanghai Knights\n",
       "1541                                   Toy Story\n",
       "2097                           Are We There Yet?\n",
       "503         The Adventures of Rocky & Bullwinkle\n",
       "1086                         Aliens in the Attic\n",
       "1152                  Back to the Future Part II\n",
       "1721                          30 Minutes or Less\n",
       "1932                                      Sheena\n",
       "2270                                    Zambezia\n",
       "2285                          Back to the Future\n",
       "1072                                Last Holiday\n",
       "2122                                  Epic Movie\n",
       "Name: title, dtype: object"
      ]
     },
     "execution_count": 51,
     "metadata": {},
     "output_type": "execute_result"
    }
   ],
   "source": [
    "get_recommendations('Cars', cos_sim2)"
   ]
  },
  {
   "cell_type": "markdown",
   "metadata": {},
   "source": [
    "## Collaborative Filtering"
   ]
  },
  {
   "cell_type": "code",
   "execution_count": null,
   "metadata": {},
   "outputs": [],
   "source": []
  }
 ],
 "metadata": {
  "interpreter": {
   "hash": "5ae58900cfbb8c43ab3495913814b7cf26024f51651a94ce8bf64d6111688e8d"
  },
  "kernelspec": {
   "display_name": "Python 3.9.7 ('base')",
   "language": "python",
   "name": "python3"
  },
  "language_info": {
   "codemirror_mode": {
    "name": "ipython",
    "version": 3
   },
   "file_extension": ".py",
   "mimetype": "text/x-python",
   "name": "python",
   "nbconvert_exporter": "python",
   "pygments_lexer": "ipython3",
   "version": "3.9.7"
  },
  "orig_nbformat": 4
 },
 "nbformat": 4,
 "nbformat_minor": 2
}
